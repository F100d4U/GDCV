{
 "cells": [
  {
   "attachments": {},
   "cell_type": "markdown",
   "metadata": {},
   "source": [
    "[GDCV14] 멀리 있는 사람도 스티커를 붙여주자"
   ]
  },
  {
   "attachments": {},
   "cell_type": "markdown",
   "metadata": {},
   "source": [
    "<<목차>>\n",
    "\n",
    "1) 스티커 구하기 혹은 만들기\n",
    "\n",
    "2) SSD 모델을 통해 얼굴 bounding box 찾기\n",
    "\n",
    "3) dlib 을 이용한 landmark 찾기 (선택사항)\n",
    "\n",
    "4) 스티커 합성 사진 생성하기\n",
    "\n",
    "5) 루브릭\n",
    "\n",
    "6) 회고"
   ]
  },
  {
   "cell_type": "code",
   "execution_count": null,
   "metadata": {},
   "outputs": [],
   "source": [
    "1) 스티커 구하기 혹은 만들기"
   ]
  },
  {
   "cell_type": "code",
   "execution_count": null,
   "metadata": {},
   "outputs": [],
   "source": []
  },
  {
   "cell_type": "markdown",
   "metadata": {},
   "source": []
  },
  {
   "attachments": {},
   "cell_type": "markdown",
   "metadata": {},
   "source": [
    "5) 루브릭"
   ]
  },
  {
   "attachments": {},
   "cell_type": "markdown",
   "metadata": {},
   "source": [
    "1. multiface detection을 위한 widerface 데이터셋의 전처리가 적절히 진행되었다.\n",
    "\n",
    "tfrecord 생성, augmentation, prior box 생성 등의 과정이 정상적으로 진행되었다.\n",
    "\n",
    "\n",
    "2. SSD 모델이 안정적으로 학습되어 multiface detection이 가능해졌다.\n",
    "\n",
    "inference를 통해 정확한 위치의 face bounding box를 detect한 결과이미지가 제출되었다.\n",
    "\n",
    "\n",
    "3. 이미지 속 다수의 얼굴에 스티커가 적용되었다.\n",
    "\n",
    "이미지 속 다수의 얼굴의 적절한 위치에 스티커가 적용된 결과이미지가 제출되었다."
   ]
  },
  {
   "attachments": {},
   "cell_type": "markdown",
   "metadata": {},
   "source": [
    "6) 회고"
   ]
  },
  {
   "attachments": {},
   "cell_type": "markdown",
   "metadata": {},
   "source": [
    "- 이번 프로젝트에서 **어려웠던 점,**\n",
    "\n",
    "\n",
    "- 프로젝트를 진행하면서 **알아낸 점** 혹은 **아직 모호한 점**\n",
    "\n",
    "\n",
    "- 루브릭 평가 지표를 맞추기 위해 **시도한 것들**\n",
    "\n",
    "\n",
    "- 만약에 루브릭 평가 관련 지표를 **달성 하지 못했을 때, 이유에 관한 추정**\n",
    "\n",
    "\n",
    "- **자기 다짐**"
   ]
  }
 ],
 "metadata": {
  "kernelspec": {
   "display_name": "Python 3",
   "language": "python",
   "name": "python3"
  },
  "language_info": {
   "name": "python",
   "version": "3.10.6 (main, Nov 14 2022, 16:10:14) [GCC 11.3.0]"
  },
  "orig_nbformat": 4,
  "vscode": {
   "interpreter": {
    "hash": "916dbcbb3f70747c44a77c7bcd40155683ae19c65e1c03b4aa3499c5328201f1"
   }
  }
 },
 "nbformat": 4,
 "nbformat_minor": 2
}
